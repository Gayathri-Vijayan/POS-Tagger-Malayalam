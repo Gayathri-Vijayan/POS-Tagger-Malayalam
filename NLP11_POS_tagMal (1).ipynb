{
 "cells": [
  {
   "cell_type": "markdown",
   "metadata": {},
   "source": [
    "Importing Libraries"
   ]
  },
  {
   "cell_type": "code",
   "execution_count": 1,
   "metadata": {},
   "outputs": [],
   "source": [
    "import nltk\n",
    "from nltk import tokenize\n",
    "from nltk.tokenize import word_tokenize\n",
    "from nltk.tokenize import sent_tokenize"
   ]
  },
  {
   "cell_type": "markdown",
   "metadata": {},
   "source": [
    "Loading Text"
   ]
  },
  {
   "cell_type": "code",
   "execution_count": 2,
   "metadata": {},
   "outputs": [],
   "source": [
    "\n",
    "\n",
    "text = '''മലപ്പുറം ജില്ലയിലെ തിരൂരങ്ങാടി താലൂക്കിൽ വേങ്ങര ബ്ളോക്കിലാണ് അബ്ദുറഹിമാൻ നഗർ ഗ്രാമപഞ്ചായത്ത് സ്ഥിതി ചെയ്യുന്നത്.  '''\n"
   ]
  },
  {
   "cell_type": "markdown",
   "metadata": {},
   "source": [
    "Sentence Tokenization"
   ]
  },
  {
   "cell_type": "code",
   "execution_count": 3,
   "metadata": {},
   "outputs": [
    {
     "data": {
      "text/plain": [
       "['മലപ്പുറം ജില്ലയിലെ തിരൂരങ്ങാടി താലൂക്കിൽ വേങ്ങര ബ്ളോക്കിലാണ് അബ്ദുറഹിമാൻ നഗർ ഗ്രാമപഞ്ചായത്ത് സ്ഥിതി ചെയ്യുന്നത്.']"
      ]
     },
     "execution_count": 3,
     "metadata": {},
     "output_type": "execute_result"
    }
   ],
   "source": [
    "sent=nltk.sent_tokenize(text)\n",
    "sent"
   ]
  },
  {
   "cell_type": "markdown",
   "metadata": {},
   "source": [
    "Word Tokenization"
   ]
  },
  {
   "cell_type": "code",
   "execution_count": 4,
   "metadata": {},
   "outputs": [
    {
     "data": {
      "text/plain": [
       "['മലപ്പുറം',\n",
       " 'ജില്ലയിലെ',\n",
       " 'തിരൂരങ്ങാടി',\n",
       " 'താലൂക്കിൽ',\n",
       " 'വേങ്ങര',\n",
       " 'ബ്ളോക്കിലാണ്',\n",
       " 'അബ്ദുറഹിമാൻ',\n",
       " 'നഗർ',\n",
       " 'ഗ്രാമപഞ്ചായത്ത്',\n",
       " 'സ്ഥിതി',\n",
       " 'ചെയ്യുന്നത്',\n",
       " '.']"
      ]
     },
     "execution_count": 4,
     "metadata": {},
     "output_type": "execute_result"
    }
   ],
   "source": [
    "for i in sent:\n",
    "    token= nltk.word_tokenize(text)\n",
    "token"
   ]
  },
  {
   "cell_type": "markdown",
   "metadata": {},
   "source": [
    "POS-Tagging"
   ]
  },
  {
   "cell_type": "code",
   "execution_count": 5,
   "metadata": {},
   "outputs": [
    {
     "data": {
      "text/plain": [
       "[('മലപ്പുറം', 'JJ'),\n",
       " ('ജില്ലയിലെ', 'NNP'),\n",
       " ('തിരൂരങ്ങാടി', 'NNP'),\n",
       " ('താലൂക്കിൽ', 'NNP'),\n",
       " ('വേങ്ങര', 'NNP'),\n",
       " ('ബ്ളോക്കിലാണ്', 'NNP'),\n",
       " ('അബ്ദുറഹിമാൻ', 'NNP'),\n",
       " ('നഗർ', 'NNP'),\n",
       " ('ഗ്രാമപഞ്ചായത്ത്', 'NNP'),\n",
       " ('സ്ഥിതി', 'NNP'),\n",
       " ('ചെയ്യുന്നത്', 'NNP'),\n",
       " ('.', '.')]"
      ]
     },
     "execution_count": 5,
     "metadata": {},
     "output_type": "execute_result"
    }
   ],
   "source": [
    "Tagged=nltk.pos_tag(token)\n",
    "Tagged"
   ]
  },
  {
   "cell_type": "markdown",
   "metadata": {},
   "source": [
    "Building POS tagger"
   ]
  },
  {
   "cell_type": "code",
   "execution_count": 12,
   "metadata": {},
   "outputs": [],
   "source": [
    "file=open(\"Malayalam_Tagged_Data.txt\",'r', encoding='utf-8') \n",
    "f=file.readlines()"
   ]
  },
  {
   "cell_type": "code",
   "execution_count": 13,
   "metadata": {},
   "outputs": [],
   "source": [
    "A=list()\n",
    "B = list()\n",
    "for i in f:\n",
    "    tagged_word = i.split()\n",
    "    tagged_word[-1] = tagged_word[-1].strip(\"\\\\\")\n",
    "    s=tuple(tagged_word)\n",
    "    B.append(s)\n",
    "    if s[0] == \".\" :\n",
    "        A.append(B)\n",
    "        B = list()      "
   ]
  },
  {
   "cell_type": "markdown",
   "metadata": {},
   "source": [
    "Training and Testing"
   ]
  },
  {
   "cell_type": "code",
   "execution_count": 14,
   "metadata": {},
   "outputs": [],
   "source": [
    "from nltk.tag import perceptron\n",
    "train=corpus[:20000]\n",
    "test=corpus[20000:]"
   ]
  },
  {
   "cell_type": "code",
   "execution_count": 16,
   "metadata": {},
   "outputs": [
    {
     "name": "stdout",
     "output_type": "stream",
     "text": [
      "Accuracy of perceptron Tagging :  0.8749838896765048\n"
     ]
    }
   ],
   "source": [
    "P_tagger = perceptron.PerceptronTagger(load=False) \n",
    "P_tagger.train(train)\n",
    "Acc= P_tagger.evaluate(test) \n",
    "print (\"Accuracy of perceptron Tagging : \", Acc )"
   ]
  },
  {
   "cell_type": "markdown",
   "metadata": {},
   "source": [
    "Evaluation"
   ]
  },
  {
   "cell_type": "code",
   "execution_count": 17,
   "metadata": {},
   "outputs": [
    {
     "data": {
      "text/plain": [
       "[('മലപ്പുറം', 'N_NNP'),\n",
       " ('ജില്ലയിലെ', 'N_NNP'),\n",
       " ('തിരൂരങ്ങാടി', 'N_NN'),\n",
       " ('താലൂക്കിൽ', 'N_NN'),\n",
       " ('വേങ്ങര', 'N_NN'),\n",
       " ('ബ്ളോക്കിലാണ്', 'V_VAUX'),\n",
       " ('അബ്ദുറഹിമാൻ', 'N_NN'),\n",
       " ('നഗർ', 'N_NN'),\n",
       " ('ഗ്രാമപഞ്ചായത്ത്', 'N_NN'),\n",
       " ('സ്ഥിതി', 'N_NN'),\n",
       " ('ചെയ്യുന്നത്', 'V_VM_VNF'),\n",
       " ('.', 'RD_PUNC')]"
      ]
     },
     "execution_count": 17,
     "metadata": {},
     "output_type": "execute_result"
    }
   ],
   "source": [
    "P_tagger.tag(token)"
   ]
  },
  {
   "cell_type": "code",
   "execution_count": null,
   "metadata": {},
   "outputs": [],
   "source": []
  }
 ],
 "metadata": {
  "kernelspec": {
   "display_name": "Python 3",
   "language": "python",
   "name": "python3"
  },
  "language_info": {
   "codemirror_mode": {
    "name": "ipython",
    "version": 3
   },
   "file_extension": ".py",
   "mimetype": "text/x-python",
   "name": "python",
   "nbconvert_exporter": "python",
   "pygments_lexer": "ipython3",
   "version": "3.8.3"
  }
 },
 "nbformat": 4,
 "nbformat_minor": 4
}
